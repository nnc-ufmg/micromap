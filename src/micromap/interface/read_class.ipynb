{
 "cells": [
  {
   "cell_type": "code",
   "execution_count": 1,
   "id": "ef9d4a0a",
   "metadata": {},
   "outputs": [],
   "source": [
    "import tkinter as tk\n",
    "from tkinter import filedialog\n",
    "from micromap_utils import MicroMAPReader"
   ]
  },
  {
   "cell_type": "code",
   "execution_count": null,
   "id": "1d1826b6",
   "metadata": {},
   "outputs": [],
   "source": [
    "def select_folder():\n",
    "    # Create and force a foreground hidden root window\n",
    "    root = tk.Tk()\n",
    "    root.withdraw()\n",
    "    root.lift()                  # Raise the window\n",
    "    root.attributes('-topmost', True)  # Keep it on top\n",
    "\n",
    "    # Show the folder picker\n",
    "    folder = filedialog.askdirectory(title=\"Select the recording folder\", parent=root)\n",
    "\n",
    "    # Destroy everything cleanly\n",
    "    root.update()\n",
    "    root.destroy()\n",
    "\n",
    "    if folder:\n",
    "        print(f\"Selected folder: {folder}\")\n",
    "    else:\n",
    "        print(\"No folder selected.\")\n",
    "\n",
    "    return folder"
   ]
  },
  {
   "cell_type": "code",
   "execution_count": 4,
   "id": "4ba9637f",
   "metadata": {},
   "outputs": [
    {
     "name": "stdout",
     "output_type": "stream",
     "text": [
      "Selected folder: C:/Users/mcjpe/Desktop/micromap_tests\n"
     ]
    },
    {
     "ename": "FileNotFoundError",
     "evalue": "Arquivo de metadados .pkl não encontrado.",
     "output_type": "error",
     "traceback": [
      "\u001b[1;31m---------------------------------------------------------------------------\u001b[0m",
      "\u001b[1;31mFileNotFoundError\u001b[0m                         Traceback (most recent call last)",
      "Cell \u001b[1;32mIn[4], line 6\u001b[0m\n\u001b[0;32m      3\u001b[0m folder \u001b[38;5;241m=\u001b[39m select_folder()\n\u001b[0;32m      5\u001b[0m \u001b[38;5;28;01mif\u001b[39;00m folder:\n\u001b[1;32m----> 6\u001b[0m     reader \u001b[38;5;241m=\u001b[39m \u001b[43mMicroMAPReader\u001b[49m\u001b[43m(\u001b[49m\u001b[43mfolder\u001b[49m\u001b[43m)\u001b[49m\n\u001b[0;32m      7\u001b[0m     \u001b[38;5;28mprint\u001b[39m(\u001b[38;5;124m\"\u001b[39m\u001b[38;5;124mNúmero de canais:\u001b[39m\u001b[38;5;124m\"\u001b[39m, reader\u001b[38;5;241m.\u001b[39mnum_channels)\n\u001b[0;32m      8\u001b[0m     \u001b[38;5;28mprint\u001b[39m(\u001b[38;5;124m\"\u001b[39m\u001b[38;5;124mFrequência de amostragem:\u001b[39m\u001b[38;5;124m\"\u001b[39m, reader\u001b[38;5;241m.\u001b[39msampling_freq)\n",
      "Cell \u001b[1;32mIn[3], line 4\u001b[0m, in \u001b[0;36mMicroMAPReader.__init__\u001b[1;34m(self, folder_path)\u001b[0m\n\u001b[0;32m      2\u001b[0m \u001b[38;5;28;01mdef\u001b[39;00m \u001b[38;5;21m__init__\u001b[39m(\u001b[38;5;28mself\u001b[39m, folder_path):\n\u001b[0;32m      3\u001b[0m     \u001b[38;5;28mself\u001b[39m\u001b[38;5;241m.\u001b[39mfolder_path \u001b[38;5;241m=\u001b[39m folder_path\n\u001b[1;32m----> 4\u001b[0m     \u001b[38;5;28;43mself\u001b[39;49m\u001b[38;5;241;43m.\u001b[39;49m\u001b[43m_load_metadata\u001b[49m\u001b[43m(\u001b[49m\u001b[43m)\u001b[49m\n\u001b[0;32m      5\u001b[0m     \u001b[38;5;28mself\u001b[39m\u001b[38;5;241m.\u001b[39m_load_binary_data()\n",
      "Cell \u001b[1;32mIn[3], line 14\u001b[0m, in \u001b[0;36mMicroMAPReader._load_metadata\u001b[1;34m(self)\u001b[0m\n\u001b[0;32m     12\u001b[0m         \u001b[38;5;28;01mbreak\u001b[39;00m\n\u001b[0;32m     13\u001b[0m \u001b[38;5;28;01melse\u001b[39;00m:\n\u001b[1;32m---> 14\u001b[0m     \u001b[38;5;28;01mraise\u001b[39;00m \u001b[38;5;167;01mFileNotFoundError\u001b[39;00m(\u001b[38;5;124m\"\u001b[39m\u001b[38;5;124mArquivo de metadados .pkl não encontrado.\u001b[39m\u001b[38;5;124m\"\u001b[39m)\n\u001b[0;32m     16\u001b[0m \u001b[38;5;66;03m# Carrega o dicionário de metadados\u001b[39;00m\n\u001b[0;32m     17\u001b[0m \u001b[38;5;28;01mwith\u001b[39;00m \u001b[38;5;28mopen\u001b[39m(metadata_file, \u001b[38;5;124m'\u001b[39m\u001b[38;5;124mrb\u001b[39m\u001b[38;5;124m'\u001b[39m) \u001b[38;5;28;01mas\u001b[39;00m f:\n",
      "\u001b[1;31mFileNotFoundError\u001b[0m: Arquivo de metadados .pkl não encontrado."
     ]
    }
   ],
   "source": [
    "%matplotlib qt\n",
    "\n",
    "folder = select_folder()\n",
    "\n",
    "if folder:\n",
    "    reader = MicroMAPReader(folder)\n",
    "    print(\"Número de canais:\", reader.num_channels)\n",
    "    print(\"Frequência de amostragem:\", reader.sampling_freq)\n",
    "\n",
    "print(reader.data.shape)\n",
    "\n",
    "arduino_check = reader.check_arduino_test()\n",
    "if arduino_check:\n",
    "    print(\"Arduino test passed.\")\n",
    "else:\n",
    "    print(\"Arduino test failed.\")\n",
    "\n",
    "counter_check = reader.check_counter_test(plot = True)\n",
    "if counter_check:\n",
    "    print(\"Counter test passed.\")\n",
    "else:\n",
    "    print(\"Counter test failed.\")\n",
    "\n",
    "fig, ax = plt.subplots()\n",
    "time_vector = reader.get_time_vector()\n",
    "data = reader.get_all_data()\n",
    "\n",
    "for i in range(reader.num_channels):\n",
    "    ax.plot(time_vector, data[i]/1000 + i, color = 'black', lw = 0.5)\n",
    "\n",
    "ax.set_xlabel(\"Time (s)\")\n",
    "ax.set_ylabel(\"Amplitude\")\n",
    "ax.set_title(\"MicroMAP Data\")\n",
    "\n",
    "plt.show()"
   ]
  }
 ],
 "metadata": {
  "kernelspec": {
   "display_name": "vectoreeg_env",
   "language": "python",
   "name": "python3"
  },
  "language_info": {
   "codemirror_mode": {
    "name": "ipython",
    "version": 3
   },
   "file_extension": ".py",
   "mimetype": "text/x-python",
   "name": "python",
   "nbconvert_exporter": "python",
   "pygments_lexer": "ipython3",
   "version": "3.12.8"
  }
 },
 "nbformat": 4,
 "nbformat_minor": 5
}
