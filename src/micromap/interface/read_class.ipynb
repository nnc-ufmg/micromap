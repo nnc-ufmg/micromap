{
 "cells": [
  {
   "cell_type": "code",
   "execution_count": 2,
   "id": "ef9d4a0a",
   "metadata": {},
   "outputs": [],
   "source": [
    "%reload_ext autoreload\n",
    "%autoreload 3\n",
    "%matplotlib inline\n",
    "\n",
    "import tkinter as tk\n",
    "from tkinter import filedialog\n",
    "from micromap_utils import MicroMAPReader\n",
    "import matplotlib.pyplot as plt"
   ]
  },
  {
   "cell_type": "code",
   "execution_count": 3,
   "id": "1d1826b6",
   "metadata": {},
   "outputs": [],
   "source": [
    "def select_folder():\n",
    "    # Create and force a foreground hidden root window\n",
    "    root = tk.Tk()\n",
    "    root.withdraw()\n",
    "    root.lift()                  # Raise the window\n",
    "    root.attributes('-topmost', True)  # Keep it on top\n",
    "\n",
    "    # Show the folder picker\n",
    "    folder = filedialog.askdirectory(title=\"Select the recording folder\", parent=root)\n",
    "\n",
    "    # Destroy everything cleanly\n",
    "    root.update()\n",
    "    root.destroy()\n",
    "\n",
    "    if folder:\n",
    "        print(f\"Selected folder: {folder}\")\n",
    "    else:\n",
    "        print(\"No folder selected.\")\n",
    "\n",
    "    return folder"
   ]
  },
  {
   "cell_type": "code",
   "execution_count": 13,
   "id": "4ba9637f",
   "metadata": {},
   "outputs": [
    {
     "name": "stdout",
     "output_type": "stream",
     "text": [
      "Selected folder: C:/Users/mcjpe/Desktop/micromap_test/spi_test_rpi/spi_test_000001_2025-04-24_17-57-45\n",
      "Number of channels: 32\n",
      "Sampling rate: 2000\n",
      "Number of packets lost:  0\n",
      "(32, 110000)\n",
      "{0: np.float64(nan), 1: np.float64(0.9999999999999998), 2: np.float64(0.9999999999999998), 3: np.float64(0.9999999999999998), 4: np.float64(0.9999999999999998), 5: np.float64(0.9999999999999998), 6: np.float64(0.9999999999999998), 7: np.float64(0.9999999999999998), 8: np.float64(0.9999999999999998), 9: np.float64(0.9999999999999998), 10: np.float64(0.9999999999999998), 11: np.float64(0.9999999999999998), 12: np.float64(0.9999999999999998), 13: np.float64(0.9999999999999998), 14: np.float64(0.9999999999999998), 15: np.float64(0.9999999999999998), 16: np.float64(0.9999999999999998), 17: np.float64(0.9999999999999998), 18: np.float64(0.9999999999999998), 19: np.float64(0.9999999999999998), 20: np.float64(0.9999999999999998), 21: np.float64(0.9999999999999998), 22: np.float64(0.9999999999999998), 23: np.float64(0.9999999999999998), 24: np.float64(0.9999999999999998), 25: np.float64(0.9999999999999998), 26: np.float64(0.9999999999999998), 27: np.float64(0.9999999999999998), 28: np.float64(0.9999999999999998), 29: np.float64(0.9999999999999997), 30: np.float64(0.9999999999999998), 31: np.float64(0.9999999999999998)}\n",
      "Counter test passed.\n"
     ]
    }
   ],
   "source": [
    "%matplotlib qt\n",
    "\n",
    "folder = select_folder()\n",
    "\n",
    "if folder:\n",
    "    reader = MicroMAPReader(folder)\n",
    "    print(\"Number of channels:\", reader.num_channels)\n",
    "    print(\"Sampling rate:\", reader.sampling_freq)\n",
    "    print(\"Number of packets lost: \", reader.packets_lost)\n",
    "\n",
    "print(reader.data.shape)\n",
    "\n",
    "arduino_errors = reader.check_arduino_test()\n",
    "print(arduino_errors)\n",
    "\n",
    "counter_check = reader.check_packet_counter()\n",
    "if counter_check:\n",
    "    print(\"Counter test passed.\")\n",
    "else:\n",
    "    print(\"Counter test failed.\")\n",
    "\n",
    "fig, ax = plt.subplots()\n",
    "time_vector = reader.get_time_vector()\n",
    "data = reader.get_data()\n",
    "\n",
    "for i in range(reader.num_channels):\n",
    "    ax.plot(time_vector[0:1000], data[i, 0:1000]/1000 + i, color = 'black', lw = 0.5)\n",
    "\n",
    "ax.set_xlabel(\"Time (s)\")\n",
    "ax.set_ylabel(\"Channels\")\n",
    "ax.set_title(\"MicroMAP Data\")\n",
    "\n",
    "plt.show()"
   ]
  }
 ],
 "metadata": {
  "kernelspec": {
   "display_name": "vectoreeg_env",
   "language": "python",
   "name": "python3"
  },
  "language_info": {
   "codemirror_mode": {
    "name": "ipython",
    "version": 3
   },
   "file_extension": ".py",
   "mimetype": "text/x-python",
   "name": "python",
   "nbconvert_exporter": "python",
   "pygments_lexer": "ipython3",
   "version": "3.12.8"
  }
 },
 "nbformat": 4,
 "nbformat_minor": 5
}
