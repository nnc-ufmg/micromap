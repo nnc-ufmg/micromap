{
 "cells": [
  {
   "cell_type": "code",
   "execution_count": 1,
   "id": "ef9d4a0a",
   "metadata": {},
   "outputs": [],
   "source": [
    "import tkinter as tk\n",
    "from tkinter import filedialog\n",
    "from micromap_utils import MicroMAPReader\n",
    "import matplotlib.pyplot as plt"
   ]
  },
  {
   "cell_type": "code",
   "execution_count": 2,
   "id": "1d1826b6",
   "metadata": {},
   "outputs": [],
   "source": [
    "def select_folder():\n",
    "    # Create and force a foreground hidden root window\n",
    "    root = tk.Tk()\n",
    "    root.withdraw()\n",
    "    root.lift()                  # Raise the window\n",
    "    root.attributes('-topmost', True)  # Keep it on top\n",
    "\n",
    "    # Show the folder picker\n",
    "    folder = filedialog.askdirectory(title=\"Select the recording folder\", parent=root)\n",
    "\n",
    "    # Destroy everything cleanly\n",
    "    root.update()\n",
    "    root.destroy()\n",
    "\n",
    "    if folder:\n",
    "        print(f\"Selected folder: {folder}\")\n",
    "    else:\n",
    "        print(\"No folder selected.\")\n",
    "\n",
    "    return folder"
   ]
  },
  {
   "cell_type": "code",
   "execution_count": 3,
   "id": "4ba9637f",
   "metadata": {},
   "outputs": [
    {
     "name": "stdout",
     "output_type": "stream",
     "text": [
      "Selected folder: C:/Users/mcjpe/Desktop/micromap_test/record_2025-04-24_13-15-00\n",
      "Max packet counter: 65535/ Min packet counter: 0\n",
      "(32, 3590000)\n",
      "Número de canais: 32\n",
      "Frequência de amostragem: 2000\n",
      "(32, 3590000)\n",
      "Counter test passed.\n"
     ]
    },
    {
     "name": "stderr",
     "output_type": "stream",
     "text": [
      "c:\\Users\\mcjpe\\miniconda3\\envs\\vectoreeg_env\\Lib\\site-packages\\ipykernel\\eventloops.py:145: UserWarning: Creating legend with loc=\"best\" can be slow with large amounts of data.\n",
      "  el.exec() if hasattr(el, \"exec\") else el.exec_()\n"
     ]
    }
   ],
   "source": [
    "%matplotlib qt\n",
    "\n",
    "folder = select_folder()\n",
    "\n",
    "if folder:\n",
    "    reader = MicroMAPReader(folder)\n",
    "    print(\"Número de canais:\", reader.num_channels)\n",
    "    print(\"Frequência de amostragem:\", reader.sampling_freq)\n",
    "\n",
    "print(reader.data.shape)\n",
    "\n",
    "# arduino_check = reader.check_arduino_test()\n",
    "# if arduino_check:\n",
    "#     print(\"Arduino test passed.\")\n",
    "# else:\n",
    "#     print(\"Arduino test failed.\")\n",
    "\n",
    "counter_check = reader.check_packet_counter(plot = True)\n",
    "if counter_check:\n",
    "    print(\"Counter test passed.\")\n",
    "else:\n",
    "    print(\"Counter test failed.\")\n",
    "\n",
    "fig, ax = plt.subplots()\n",
    "time_vector = reader.get_time_vector()\n",
    "data = reader.get_all_data()\n",
    "\n",
    "for i in range(reader.num_channels):\n",
    "    ax.plot(time_vector, data[i]/1000 + i, color = 'black', lw = 0.5)\n",
    "\n",
    "ax.set_xlabel(\"Time (s)\")\n",
    "ax.set_ylabel(\"Amplitude\")\n",
    "ax.set_title(\"MicroMAP Data\")\n",
    "\n",
    "plt.show()"
   ]
  }
 ],
 "metadata": {
  "kernelspec": {
   "display_name": "vectoreeg_env",
   "language": "python",
   "name": "python3"
  },
  "language_info": {
   "codemirror_mode": {
    "name": "ipython",
    "version": 3
   },
   "file_extension": ".py",
   "mimetype": "text/x-python",
   "name": "python",
   "nbconvert_exporter": "python",
   "pygments_lexer": "ipython3",
   "version": "3.12.8"
  }
 },
 "nbformat": 4,
 "nbformat_minor": 5
}
