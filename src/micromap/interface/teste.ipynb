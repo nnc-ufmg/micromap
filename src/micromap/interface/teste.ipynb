{
 "cells": [
  {
   "cell_type": "code",
   "execution_count": 31,
   "metadata": {},
   "outputs": [
    {
     "name": "stdout",
     "output_type": "stream",
     "text": [
      "b'\\x11*OK\\x00\\x1c\\xb7\\x1a>\\x1b\\x14\\x1a\\x08\\x14\\x18\\x18=\\x17z\\x16'\n"
     ]
    }
   ],
   "source": [
    "%matplotlib qt\n",
    "\n",
    "# read bin file\n",
    "import sys\n",
    "import struct\n",
    "import numpy as np\n",
    "import matplotlib.pyplot as plt\n",
    "\n",
    "file_name = \"C:\\\\Users\\\\mcjpe\\\\Desktop\\\\depois_lixo\\\\data.bin\"\n",
    "file = open(file_name, \"rb\")\n",
    "data = file.read()\n",
    "data_byte = bytearray(data)\n",
    "\n",
    "print(data[0:20])"
   ]
  },
  {
   "cell_type": "code",
   "execution_count": 35,
   "metadata": {},
   "outputs": [
    {
     "name": "stdout",
     "output_type": "stream",
     "text": [
      "[0.00209996 0.00375941 0.00139776 0.00133361 0.00135993 0.00130182\n",
      " 0.00099996 0.00120276 0.00116006 0.00112203 0.00134765 0.00126029\n",
      " 0.0013457  0.00123533 0.00139776 0.00119808 0.00142194 0.00124586\n",
      " 0.00121017 0.00120588]\n"
     ]
    }
   ],
   "source": [
    "# unpack data\n",
    "unpack_sequence = '<' + str(int(len(data) / 2)) + 'h'\n",
    "data_unpacked = struct.unpack(unpack_sequence, data_byte)\n",
    "data_unpacked = np.array(data_unpacked)*(0.195e-6)\n",
    "\n",
    "print(data_unpacked[0:20])"
   ]
  },
  {
   "cell_type": "code",
   "execution_count": 46,
   "metadata": {},
   "outputs": [],
   "source": [
    "num_channels = 8\n",
    "\n",
    "for i in range(num_channels):\n",
    "    plt.plot(1000*(data_unpacked[i::num_channels]) + i)\n",
    "\n",
    "plt.show()"
   ]
  }
 ],
 "metadata": {
  "kernelspec": {
   "display_name": "micromap_env",
   "language": "python",
   "name": "python3"
  },
  "language_info": {
   "codemirror_mode": {
    "name": "ipython",
    "version": 3
   },
   "file_extension": ".py",
   "mimetype": "text/x-python",
   "name": "python",
   "nbconvert_exporter": "python",
   "pygments_lexer": "ipython3",
   "version": "3.13.0"
  }
 },
 "nbformat": 4,
 "nbformat_minor": 2
}
