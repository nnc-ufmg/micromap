{
 "cells": [
  {
   "cell_type": "code",
   "execution_count": 1,
   "id": "519c4b29",
   "metadata": {},
   "outputs": [],
   "source": [
    "%reload_ext autoreload\n",
    "%autoreload 3\n",
    "%matplotlib inline\n",
    "\n",
    "import os\n",
    "import numpy\n",
    "import tkinter as tk\n",
    "from tkinter import filedialog\n",
    "import matplotlib.pyplot as plt\n",
    "\n",
    "# Return two paths from the current working directory\n",
    "current = os.getcwd()\n",
    "parent_1 = os.path.dirname(current)\n",
    "parent_2 = os.path.dirname(parent_1)\n",
    "root_dir = os.path.join(parent_2, 'interface')\n",
    "# Add the root directory to the system path\n",
    "os.sys.path.append(root_dir)\n",
    "# H:\\github\\nnc-ufmg\\micromap\\src\\micromap\\interface\\micromap_utils.py\n",
    "from micromap_utils import MicroMAPReaderADS"
   ]
  },
  {
   "cell_type": "code",
   "execution_count": 2,
   "id": "ab78befe",
   "metadata": {},
   "outputs": [],
   "source": [
    "def select_folder():\n",
    "    # Create and force a foreground hidden root window\n",
    "    root = tk.Tk()\n",
    "    root.withdraw()\n",
    "    root.lift()                  # Raise the window\n",
    "    root.attributes('-topmost', True)  # Keep it on top\n",
    "\n",
    "    # Show the folder picker\n",
    "    folder = filedialog.askdirectory(title=\"Select the recording folder\", parent=root)\n",
    "\n",
    "    # Destroy everything cleanly\n",
    "    root.update()\n",
    "    root.destroy()\n",
    "\n",
    "    if folder:\n",
    "        print(f\"Selected folder: {folder}\")\n",
    "    else:\n",
    "        print(\"No folder selected.\")\n",
    "\n",
    "    return folder"
   ]
  },
  {
   "cell_type": "code",
   "execution_count": 3,
   "id": "44ed69aa",
   "metadata": {},
   "outputs": [
    {
     "name": "stdout",
     "output_type": "stream",
     "text": [
      "Selected folder: C:/Users/mcjpe/Desktop/depois_lixo/square_2000_freq01_2025-04-30_18-29-19\n"
     ]
    },
    {
     "data": {
      "text/plain": [
       "(8, 38080)"
      ]
     },
     "execution_count": 3,
     "metadata": {},
     "output_type": "execute_result"
    }
   ],
   "source": [
    "data_folder = select_folder()\n",
    "reader = MicroMAPReaderADS(data_folder)\n",
    "reader.data.shape"
   ]
  },
  {
   "cell_type": "code",
   "execution_count": 4,
   "id": "0be1b589",
   "metadata": {},
   "outputs": [],
   "source": [
    "def compute_fft(signal, sampling_rate):\n",
    "    \"\"\"\n",
    "    Calcula a FFT de um sinal real e retorna apenas a metade positiva do espectro.\n",
    "\n",
    "    Parâmetros:\n",
    "    - signal: array 1D com o sinal no domínio do tempo\n",
    "    - sampling_rate: taxa de amostragem em Hz\n",
    "\n",
    "    Retorna:\n",
    "    - freqs: vetor de frequências (em Hz)\n",
    "    - fft_values: módulo da FFT correspondente\n",
    "    \"\"\"\n",
    "    N = len(signal)\n",
    "    fft_result = numpy.fft.fft(signal)\n",
    "    fft_magnitude = numpy.abs(fft_result) / N  # Normalização\n",
    "\n",
    "    freqs = numpy.fft.fftfreq(N, d=1/sampling_rate)\n",
    "\n",
    "    # Mantém apenas a metade positiva do espectro (para sinais reais)\n",
    "    half_N = N // 2\n",
    "    return freqs[:half_N], fft_magnitude[:half_N]"
   ]
  },
  {
   "cell_type": "code",
   "execution_count": 6,
   "id": "fefb052f",
   "metadata": {},
   "outputs": [],
   "source": [
    "%matplotlib qt\n",
    "\n",
    "obj = reader\n",
    "data = obj.data[:, 1550:]\n",
    "rate = 2000#obj.sampling_freq\n",
    "  \n",
    "num_channels = data.shape[0]                                                                                       \n",
    "time = numpy.arange(data.shape[1])                                                                                 # Creates a vector with the number of samples lenght\n",
    "time = time /rate                                                                                                   # Converts the samples to seconds\n",
    "\n",
    "fig = plt.figure(figsize=(10, 5))                                                                                 # Creates a figure with the size of 10x5 inches\n",
    "ax_0 = fig.add_subplot(1, 1, 1)                                                                                  # Creates a 1x3 matrix of subplots\n",
    "\n",
    "plot_channels = range(8)\n",
    "\n",
    "fig, ax = plt.subplots(2, 1, figsize=(10, 5))                                                                      # Creates a figure with the size of 10x5 inches\n",
    "ax[0].plot(time, data[0]*0.1e-3, color = (160/255, 17/255, 8/255, 1), linewidth = 1)                                          # Plots the first channel of the matrix\n",
    "\n",
    "fft_f, fft_s = compute_fft(data[0], rate)                                                                        # Computes the FFT of the first channel \n",
    "\n",
    "ax[1].plot(fft_f, fft_s, color = (160/255, 17/255, 8/255, 1), linewidth = 1)                                 # Plots the FFT of the first channel\n",
    "\n",
    "\n",
    "for ch in plot_channels:                                                                                             # Loop through all the rows of the matrix\n",
    "    ax_0.plot(time, data[ch]*1e-4 + ch + 1, color = (160/255, 17/255, 8/255, 1), linewidth = 1)\n",
    "\n",
    "ax_0.set_xlabel('TIME (s)', fontsize = 16)\n",
    "ax_0.set_ylabel('CHANNEL', fontsize = 16)\n",
    "ax_0.set_yticks(range(1, max(plot_channels) + 2, 2))\n",
    "ax_0.set_yticklabels(range(1, max(plot_channels) + 2, 2))\n",
    "ax_0.set_xlim(0, time[-1])\n",
    "\n",
    "# set tick labels font\n",
    "for label in (ax_0.get_xticklabels() + ax_0.get_yticklabels()):\n",
    "    label.set_fontsize(16)\n",
    "\n",
    "# plt.savefig(folders + '/signal_example.png')\n",
    "# plt.savefig(folders + '/signal_example.svg')\n",
    "\n",
    "plt.show()"
   ]
  }
 ],
 "metadata": {
  "kernelspec": {
   "display_name": "vectoreeg_env",
   "language": "python",
   "name": "python3"
  },
  "language_info": {
   "codemirror_mode": {
    "name": "ipython",
    "version": 3
   },
   "file_extension": ".py",
   "mimetype": "text/x-python",
   "name": "python",
   "nbconvert_exporter": "python",
   "pygments_lexer": "ipython3",
   "version": "3.12.7"
  }
 },
 "nbformat": 4,
 "nbformat_minor": 5
}
